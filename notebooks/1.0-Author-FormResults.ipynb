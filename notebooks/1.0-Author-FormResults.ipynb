{
 "cells": [
  {
   "cell_type": "code",
   "execution_count": 1,
   "metadata": {},
   "outputs": [],
   "source": [
    "import os\n",
    "import io\n",
    "import sys\n",
    "import matplotlib.pyplot as plt\n",
    "import IPython.display as ipd\n",
    "import pandas as pd\n",
    "import re\n",
    "import subprocess\n",
    "import numpy as np\n",
    "from tqdm import tqdm\n",
    "\n",
    "%load_ext autoreload\n",
    "%autoreload 2\n",
    "%matplotlib inline\n",
    "\n",
    "sys.path.append('../src')"
   ]
  },
  {
   "cell_type": "code",
   "execution_count": 6,
   "metadata": {},
   "outputs": [],
   "source": [
    "root_dir = '/' # TODO\n",
    "\n",
    "databases_dir = {'C': 'C', 'EXPR': 'EXPR', 'VA': 'VA', 'VAE_VA': 'VAE', 'VAE_E': 'VAE'}\n",
    "\n",
    "stats_path = 'logs/stats.csv'\n",
    "\n",
    "results = {}\n",
    "for k, db in databases_dir.items():\n",
    "    results[k] = []\n",
    "    exp_lists = os.listdir(os.path.join(root_dir, db))\n",
    "    exp_lists.sort(key=lambda exp_name: '-'.join(exp_name.split('-')[-2:]), reverse=True)\n",
    "    for exp_name in exp_lists:\n",
    "        df = pd.read_csv(os.path.join(root_dir, db, exp_name, stats_path), sep=';')\n",
    "        if 'C' in k:\n",
    "            best_model = df.iloc[df['abaw_devel_f1'].idxmax()].to_dict()\n",
    "        elif 'EXPR' in k:\n",
    "            best_model = df.iloc[df['devel_f1'].idxmax()].to_dict()\n",
    "        elif 'VAE_E' in k:\n",
    "            best_model = df.iloc[df['expr_devel_f1'].idxmax()].to_dict()\n",
    "        elif 'VAE_VA' in k:\n",
    "            best_model = df.iloc[df['va_devel_va_score'].idxmax()].to_dict()\n",
    "        elif 'VA' in k:\n",
    "            best_model = df.iloc[df['devel_va_score'].idxmax()].to_dict()\n",
    "            \n",
    "        for name, v in best_model.items():\n",
    "            if ('loss' in name) or ('epoch' in name) or ('experiment_name' in name) or ('va_score' in name) or ('v_score' in name) or ('a_score' in name):\n",
    "                continue\n",
    "            else:\n",
    "                best_model[name] = v * 100\n",
    "\n",
    "        results[k].append({**{'experiment_name': exp_name}, **best_model})\n",
    "\n",
    "for k, db in results.items():\n",
    "    pd.DataFrame(results[k]).to_csv('{0}_results.csv'.format(k.replace(os.sep, '_')), index=False)"
   ]
  }
 ],
 "metadata": {
  "kernelspec": {
   "display_name": "Python 3 (ipykernel)",
   "language": "python",
   "name": "python3"
  },
  "language_info": {
   "codemirror_mode": {
    "name": "ipython",
    "version": 3
   },
   "file_extension": ".py",
   "mimetype": "text/x-python",
   "name": "python",
   "nbconvert_exporter": "python",
   "pygments_lexer": "ipython3",
   "version": "3.10.12"
  }
 },
 "nbformat": 4,
 "nbformat_minor": 4
}
